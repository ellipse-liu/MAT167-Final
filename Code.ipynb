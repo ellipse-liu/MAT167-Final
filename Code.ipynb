{
 "cells": [
  {
   "cell_type": "code",
   "execution_count": 5,
   "id": "d26c62cc-3de5-4a64-964d-3caa0407af35",
   "metadata": {},
   "outputs": [],
   "source": [
    "#import necessary modules\n",
    "import numpy as np"
   ]
  },
  {
   "cell_type": "code",
   "execution_count": 74,
   "id": "c9950b00-5f9f-40b4-9035-4ea9e198a8d7",
   "metadata": {},
   "outputs": [],
   "source": [
    "\n",
    "# set global parameters (perlude)\n",
    "const_number_pages = 12\n",
    "\n",
    "webpage_dict = {'A':['Anchovy','Grouper', 'Mackerel', 'Pike', 'Salmon', 'Betta', 'Walleye'],\n",
    "               'B': ['Grouper', 'Pike', 'Wahoo', 'Tuna', 'Shad', 'Cod', 'Carp', 'Opah', 'Herring'],\n",
    "               'C':['Anchovy', 'Wahoo', 'Tuna', 'Opah', 'Mudskipper'],\n",
    "               'D':['Mackerel', 'Pike', 'Wahoo', 'Salmon', 'Mudskipper'],\n",
    "               'E':['Anchovy', 'Grouper', 'Shad', 'Mudskipper', 'Herring', 'Walleye'],\n",
    "               'F':['Grouper', 'Cod', 'Betta', 'Carp', 'Perch', 'Mudskipper'],\n",
    "               'G':['Mackerel', 'Tuna', 'Shad', 'Cod', 'Opah', 'Walleye'],\n",
    "               'H':['Anchovy', 'Mackerel', 'Pike', 'Salmon', 'Perch', 'Herring'],\n",
    "               'I':['Pike', 'Tuna', 'Cod', 'Salmon', 'Carp', 'Walleye'],\n",
    "               'J':['Grouper', 'Mackerel', 'Tuna', 'Perch', 'Walleye'],\n",
    "               'K':['Mackerel', 'Wahoo', 'Shad', 'Betta', 'Carp', 'Opah', 'Herring'],\n",
    "               'L':['Grouper', 'Wahoo', 'Betta', 'Perch', 'Mudskipper', 'Herring']}\n",
    "\n",
    "out_edge_network = {'A':['C','E'],\n",
    "               'B':['A','C'],\n",
    "               'C':[],\n",
    "               'D':['B'],\n",
    "               'E':['C','F','G','I'],\n",
    "               'F':['C', 'B','D','H'],\n",
    "               'G':['F','I'],\n",
    "               'H':['D','G','J'],\n",
    "               'I':['G','J','K'],\n",
    "               'J':['G','H','L'],\n",
    "               'K':['J'],\n",
    "               'L':['J']}\n",
    "\n",
    "\n",
    "\n",
    "webpage_names = {\n",
    "    \"A\": \"Tim’s Wet Pets\",\n",
    "    \"B\": \"Finny’s Fried Fish\",\n",
    "    \"C\": \"By the Sea\",\n",
    "    \"D\": \"Scales and Tails\", \n",
    "    \"E\": \"Fillets ’R Us\", \n",
    "    \"F\": \"It’s Better Wetter\" ,\n",
    "    \"G\": \"Friendly Fish\",  \n",
    "    \"H\": \"Frank’s Aquariums\", \n",
    "    \"I\": \"Fishmonger’s Bane\", \n",
    "    \"J\": \"Fish Eye Cafe\", \n",
    "    \"K\": \"Happy Fins\", \n",
    "    \"L\": \"Fishtastic\" \n",
    "}\n"
   ]
  },
  {
   "cell_type": "code",
   "execution_count": 75,
   "id": "53f8fe86-f943-42fa-bf4e-7a9ad03e2b51",
   "metadata": {},
   "outputs": [
    {
     "name": "stdout",
     "output_type": "stream",
     "text": [
      "[[0.         0.         0.5        0.         0.5        0.\n",
      "  0.         0.         0.         0.         0.         0.        ]\n",
      " [0.5        0.         0.5        0.         0.         0.\n",
      "  0.         0.         0.         0.         0.         0.        ]\n",
      " [0.         0.         0.         0.         0.         0.\n",
      "  0.         0.         0.         0.         0.         0.        ]\n",
      " [0.         1.         0.         0.         0.         0.\n",
      "  0.         0.         0.         0.         0.         0.        ]\n",
      " [0.         0.         0.25       0.         0.         0.25\n",
      "  0.25       0.         0.25       0.         0.         0.        ]\n",
      " [0.         0.25       0.25       0.25       0.         0.\n",
      "  0.         0.25       0.         0.         0.         0.        ]\n",
      " [0.         0.         0.         0.         0.         0.5\n",
      "  0.         0.         0.5        0.         0.         0.        ]\n",
      " [0.         0.         0.         0.33333333 0.         0.\n",
      "  0.33333333 0.         0.         0.33333333 0.         0.        ]\n",
      " [0.         0.         0.         0.         0.         0.\n",
      "  0.33333333 0.         0.         0.33333333 0.33333333 0.        ]\n",
      " [0.         0.         0.         0.         0.         0.\n",
      "  0.33333333 0.33333333 0.         0.         0.         0.33333333]\n",
      " [0.         0.         0.         0.         0.         0.\n",
      "  0.         0.         0.         1.         0.         0.        ]\n",
      " [0.         0.         0.         0.         0.         0.\n",
      "  0.         0.         0.         1.         0.         0.        ]]\n"
     ]
    }
   ],
   "source": [
    "# 1)\n",
    "# # convert adjancency matrix into google matrix\n",
    "google = np.zeros(shape=(12,12))\n",
    "for x in out_edge_network.keys():\n",
    "    # we have to comment this, and do it later (this is what professor wants)\n",
    "    # if len(out_edge_network[x]) == 0: \n",
    "        # for y in range(0,len(google[ord(x.lower()) - 97])):\n",
    "            # google[ord(x.lower()) - 97][y] = 1/const_number_pages\n",
    "    for y in out_edge_network[x]:\n",
    "        google[ord(x.lower()) - 97][ord(y.lower()) - 97] = 1/len(out_edge_network[x])\n",
    "print(google)"
   ]
  },
  {
   "cell_type": "code",
   "execution_count": 76,
   "id": "60cac023",
   "metadata": {},
   "outputs": [],
   "source": [
    "# Check that rows are correct:\n",
    "\n",
    "for i in google:\n",
    "    tmp = i.sum()\n",
    "    if tmp != 1.0 and tmp != 0.0:\n",
    "        print(\"Not raw google matrix\")"
   ]
  },
  {
   "cell_type": "code",
   "execution_count": 77,
   "id": "ad52faed-37ef-4485-b682-8eab69b3be73",
   "metadata": {},
   "outputs": [],
   "source": [
    "# decompose google matrix into components\n",
    "U,S,Vh = np.linalg.svd(google,full_matrices=False)"
   ]
  },
  {
   "cell_type": "code",
   "execution_count": 78,
   "id": "8839f35e-fdd7-4495-bdf4-eee96abf18f3",
   "metadata": {},
   "outputs": [
    {
     "name": "stdout",
     "output_type": "stream",
     "text": [
      "[1.50458832e+00 1.04477244e+00 9.33271772e-01 7.90669803e-01\n",
      " 6.96286963e-01 5.00000000e-01 4.22283313e-01 3.93363248e-01\n",
      " 2.34223569e-01 1.60547601e-01 8.09421701e-17 4.56942467e-18]\n",
      "[-0.0010313  -0.0040289  -0.00830726 -0.05989292 -0.0010313  -0.00512813\n",
      " -0.12615522 -0.00923753 -0.00512813 -0.98838967 -0.05752765 -0.00698835]\n"
     ]
    }
   ],
   "source": [
    "# The largest eigenvalue is not exactly 1\n",
    "# the egenvector corresponding to the largest eigenvalue has all negative entries\n",
    "print(S)\n",
    "print(Vh[0])"
   ]
  },
  {
   "cell_type": "code",
   "execution_count": 79,
   "id": "97995d58-15f2-4156-8fc8-b85dacfe029a",
   "metadata": {},
   "outputs": [],
   "source": [
    "# Cell 3 already set up default values for dangling node C\n",
    "# I am afraid, we would have to change it"
   ]
  },
  {
   "cell_type": "code",
   "execution_count": 87,
   "id": "0f91debb",
   "metadata": {},
   "outputs": [
    {
     "name": "stdout",
     "output_type": "stream",
     "text": [
      "Updated google matrix: \n",
      "[[0.         0.         0.5        0.         0.5        0.\n",
      "  0.         0.         0.         0.         0.         0.        ]\n",
      " [0.5        0.         0.5        0.         0.         0.\n",
      "  0.         0.         0.         0.         0.         0.        ]\n",
      " [0.08333333 0.08333333 0.08333333 0.08333333 0.08333333 0.08333333\n",
      "  0.08333333 0.08333333 0.08333333 0.08333333 0.08333333 0.08333333]\n",
      " [0.         1.         0.         0.         0.         0.\n",
      "  0.         0.         0.         0.         0.         0.        ]\n",
      " [0.         0.         0.25       0.         0.         0.25\n",
      "  0.25       0.         0.25       0.         0.         0.        ]\n",
      " [0.         0.25       0.25       0.25       0.         0.\n",
      "  0.         0.25       0.         0.         0.         0.        ]\n",
      " [0.         0.         0.         0.         0.         0.5\n",
      "  0.         0.         0.5        0.         0.         0.        ]\n",
      " [0.         0.         0.         0.33333333 0.         0.\n",
      "  0.33333333 0.         0.         0.33333333 0.         0.        ]\n",
      " [0.         0.         0.         0.         0.         0.\n",
      "  0.33333333 0.         0.         0.33333333 0.33333333 0.        ]\n",
      " [0.         0.         0.         0.         0.         0.\n",
      "  0.33333333 0.33333333 0.         0.         0.         0.33333333]\n",
      " [0.         0.         0.         0.         0.         0.\n",
      "  0.         0.         0.         1.         0.         0.        ]\n",
      " [0.         0.         0.         0.         0.         0.\n",
      "  0.         0.         0.         1.         0.         0.        ]]\n"
     ]
    }
   ],
   "source": [
    "# 4)\n",
    "for i, j in enumerate(google):\n",
    "    if not j.sum():\n",
    "        google[i] = np.array([1/const_number_pages for k in range(const_number_pages)])\n",
    "        \n",
    "print(\"Updated google matrix: \")\n",
    "print(google) \n"
   ]
  },
  {
   "cell_type": "code",
   "execution_count": 117,
   "id": "5a5151d2",
   "metadata": {},
   "outputs": [
    {
     "name": "stdout",
     "output_type": "stream",
     "text": [
      "Largest eigenvalue: (0.9999999999999992+0j). \n",
      "Number of negative entriesin corresponding eigenvector: 12\n",
      "Since all of the entries are negative, we will flip their signs\n"
     ]
    }
   ],
   "source": [
    "# eigvalues = np.linalg.eigvals(google)\n",
    "# eigvalues\n",
    "# print(f\"Largest value: {eigvalues.max()}\")\n",
    "w, v = np.linalg.eig(np.transpose(google))\n",
    "\n",
    "eigval = w.max()\n",
    "eigvect = v[:, np.where(w==eigval)]\n",
    "print(f\"Largest eigenvalue: {eigval}. \")\n",
    "\n",
    "non_negative_count = 0\n",
    "\n",
    "for i in eigvect:\n",
    "    if i < 0:\n",
    "        non_negative_count += 1\n",
    "print(f\"Number of negative entriesin corresponding eigenvector: {non_negative_count}\")\n",
    "print(\"Since all of the entries are negative, we will flip their signs\") # idk, I don't like it\n",
    "eigvect[0, :] = eigvect[0, :] * -1\n"
   ]
  },
  {
   "cell_type": "code",
   "execution_count": null,
   "id": "8beb44e4",
   "metadata": {},
   "outputs": [],
   "source": [
    "# 6) Already normalized"
   ]
  },
  {
   "cell_type": "code",
   "execution_count": null,
   "id": "2e0b15d6",
   "metadata": {},
   "outputs": [],
   "source": [
    "# will be useful in the future meh, I am too dumb\n",
    "\n",
    "def page_ranking_by_vector(vector: np.ndarray) -> None:\n",
    "    tmp = sorted([i for i in vector], reverse=True)\n",
    "    for i in tmp:dasdasdsad\n",
    "        "
   ]
  }
 ],
 "metadata": {
  "kernelspec": {
   "display_name": "Python 3",
   "language": "python",
   "name": "python3"
  },
  "language_info": {
   "codemirror_mode": {
    "name": "ipython",
    "version": 3
   },
   "file_extension": ".py",
   "mimetype": "text/x-python",
   "name": "python",
   "nbconvert_exporter": "python",
   "pygments_lexer": "ipython3",
   "version": "3.10.6"
  }
 },
 "nbformat": 4,
 "nbformat_minor": 5
}
