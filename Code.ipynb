{
 "cells": [
  {
   "cell_type": "code",
   "execution_count": 1,
   "id": "d26c62cc-3de5-4a64-964d-3caa0407af35",
   "metadata": {},
   "outputs": [],
   "source": [
    "#import necessary modules\n",
    "import numpy as np"
   ]
  },
  {
   "cell_type": "code",
   "execution_count": 32,
   "id": "c9950b00-5f9f-40b4-9035-4ea9e198a8d7",
   "metadata": {},
   "outputs": [],
   "source": [
    "# set global parameters\n",
    "webpage_dict = {'A':['Anchovy','Grouper', 'Mackerel', 'Pike', 'Salmon', 'Betta', 'Walleye'],\n",
    "               'B': ['Grouper', 'Pike', 'Wahoo', 'Tuna', 'Shad', 'Cod', 'Carp', 'Opah', 'Herring'],\n",
    "               'C':['Anchovy', 'Wahoo', 'Tuna', 'Opah', 'Mudskipper'],\n",
    "               'D':['Mackerel', 'Pike', 'Wahoo', 'Salmon', 'Mudskipper'],\n",
    "               'E':['Anchovy', 'Grouper', 'Shad', 'Mudskipper', 'Herring', 'Walleye'],\n",
    "               'F':['Grouper', 'Cod', 'Betta', 'Carp', 'Perch', 'Mudskipper'],\n",
    "               'G':['Mackerel', 'Tuna', 'Shad', 'Cod', 'Opah', 'Walleye'],\n",
    "               'H':['Anchovy', 'Mackerel', 'Pike', 'Salmon', 'Perch', 'Herring'],\n",
    "               'I':['Pike', 'Tuna', 'Cod', 'Salmon', 'Carp', 'Walleye'],\n",
    "               'J':['Grouper', 'Mackerel', 'Tuna', 'Perch', 'Walleye'],\n",
    "               'K':['Mackerel', 'Wahoo', 'Shad', 'Betta', 'Carp', 'Opah', 'Herring'],\n",
    "               'L':['Grouper', 'Wahoo', 'Betta', 'Perch', 'Mudskipper', 'Herring']}\n",
    "\n",
    "out_edge_network = {'A':['C','E'],\n",
    "               'B':['A','C'],\n",
    "               'C':[],\n",
    "               'D':['B'],\n",
    "               'E':['C','F','G','I'],\n",
    "               'F':['B','D','H'],\n",
    "               'G':['F','I'],\n",
    "               'H':['D','G','J'],\n",
    "               'I':['G','J','K'],\n",
    "               'J':['G','H','L'],\n",
    "               'K':['J'],\n",
    "               'L':['J']}"
   ]
  },
  {
   "cell_type": "code",
   "execution_count": 42,
   "id": "53f8fe86-f943-42fa-bf4e-7a9ad03e2b51",
   "metadata": {},
   "outputs": [
    {
     "name": "stdout",
     "output_type": "stream",
     "text": [
      "[[0.         0.         0.5        0.         0.5        0.\n",
      "  0.         0.         0.         0.         0.         0.        ]\n",
      " [0.5        0.         0.5        0.         0.         0.\n",
      "  0.         0.         0.         0.         0.         0.        ]\n",
      " [0.08333333 0.08333333 0.08333333 0.08333333 0.08333333 0.08333333\n",
      "  0.08333333 0.08333333 0.08333333 0.08333333 0.08333333 0.08333333]\n",
      " [0.         1.         0.         0.         0.         0.\n",
      "  0.         0.         0.         0.         0.         0.        ]\n",
      " [0.         0.         0.25       0.         0.         0.25\n",
      "  0.25       0.         0.25       0.         0.         0.        ]\n",
      " [0.         0.33333333 0.         0.33333333 0.         0.\n",
      "  0.         0.33333333 0.         0.         0.         0.        ]\n",
      " [0.         0.         0.         0.         0.         0.5\n",
      "  0.         0.         0.5        0.         0.         0.        ]\n",
      " [0.         0.         0.         0.33333333 0.         0.\n",
      "  0.33333333 0.         0.         0.33333333 0.         0.        ]\n",
      " [0.         0.         0.         0.         0.         0.\n",
      "  0.33333333 0.         0.         0.33333333 0.33333333 0.        ]\n",
      " [0.         0.         0.         0.         0.         0.\n",
      "  0.33333333 0.33333333 0.         0.         0.         0.33333333]\n",
      " [0.         0.         0.         0.         0.         0.\n",
      "  0.         0.         0.         1.         0.         0.        ]\n",
      " [0.         0.         0.         0.         0.         0.\n",
      "  0.         0.         0.         1.         0.         0.        ]]\n"
     ]
    }
   ],
   "source": [
    "# convert adjancency matrix into google matrix\n",
    "google = np.zeros(shape=(12,12))\n",
    "for x in out_edge_network.keys():\n",
    "    if len(out_edge_network[x]) == 0:\n",
    "        for y in range(0,len(google[ord(x.lower()) - 97])):\n",
    "            google[ord(x.lower()) - 97][y] = 1/12\n",
    "    for y in out_edge_network[x]:\n",
    "        google[ord(x.lower()) - 97][ord(y.lower()) - 97] = 1/len(out_edge_network[x])\n",
    "print(google)"
   ]
  },
  {
   "cell_type": "code",
   "execution_count": 43,
   "id": "ad52faed-37ef-4485-b682-8eab69b3be73",
   "metadata": {},
   "outputs": [],
   "source": [
    "# decompose google matrix into components\n",
    "U,S,Vh = np.linalg.svd(google,full_matrices=False)"
   ]
  },
  {
   "cell_type": "code",
   "execution_count": 48,
   "id": "8839f35e-fdd7-4495-bdf4-eee96abf18f3",
   "metadata": {},
   "outputs": [
    {
     "name": "stdout",
     "output_type": "stream",
     "text": [
      "[1.50859629e+00 1.07551637e+00 9.34626590e-01 7.94754270e-01\n",
      " 7.13861330e-01 5.00000000e-01 4.61999269e-01 4.04635863e-01\n",
      " 2.63546962e-01 1.49215645e-01 2.03325006e-02 1.85757987e-35]\n",
      "[-0.00617702 -0.01596016 -0.01285682 -0.06681555 -0.00617702 -0.01111766\n",
      " -0.13200947 -0.01679484 -0.01111766 -0.98647538 -0.06170485 -0.01193365]\n"
     ]
    }
   ],
   "source": [
    "# The largest eigenvalue is not exactly 1\n",
    "# the egenvector corresponding to the largest eigenvalue has all negative entries\n",
    "print(S)\n",
    "print(Vh[0])"
   ]
  },
  {
   "cell_type": "code",
   "execution_count": null,
   "id": "97995d58-15f2-4156-8fc8-b85dacfe029a",
   "metadata": {},
   "outputs": [],
   "source": [
    "# Cell 3 already set up default values for dangling node C"
   ]
  }
 ],
 "metadata": {
  "kernelspec": {
   "display_name": "laptop_sketchbook",
   "language": "python",
   "name": "laptop_sketchbook"
  },
  "language_info": {
   "codemirror_mode": {
    "name": "ipython",
    "version": 3
   },
   "file_extension": ".py",
   "mimetype": "text/x-python",
   "name": "python",
   "nbconvert_exporter": "python",
   "pygments_lexer": "ipython3",
   "version": "3.7.16"
  }
 },
 "nbformat": 4,
 "nbformat_minor": 5
}
