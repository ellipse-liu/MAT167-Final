{
 "cells": [
  {
   "cell_type": "code",
   "execution_count": 1,
   "id": "d26c62cc-3de5-4a64-964d-3caa0407af35",
   "metadata": {},
   "outputs": [],
   "source": [
    "#import necessary modules\n",
    "import numpy as np\n",
    "import pandas as pd"
   ]
  },
  {
   "cell_type": "code",
   "execution_count": 2,
   "id": "c9950b00-5f9f-40b4-9035-4ea9e198a8d7",
   "metadata": {},
   "outputs": [],
   "source": [
    "\n",
    "# set global parameters (perlude)\n",
    "const_number_pages = 12\n",
    "\n",
    "webpage_dict = {'A':['Anchovy','Grouper', 'Mackerel', 'Pike', 'Salmon', 'Betta', 'Walleye'],\n",
    "               'B': ['Grouper', 'Pike', 'Wahoo', 'Tuna', 'Shad', 'Cod', 'Carp', 'Opah', 'Herring'],\n",
    "               'C':['Anchovy', 'Wahoo', 'Tuna', 'Opah', 'Mudskipper'],\n",
    "               'D':['Mackerel', 'Pike', 'Wahoo', 'Salmon', 'Mudskipper'],\n",
    "               'E':['Anchovy', 'Grouper', 'Shad', 'Mudskipper', 'Herring', 'Walleye'],\n",
    "               'F':['Grouper', 'Cod', 'Betta', 'Carp', 'Perch', 'Mudskipper'],\n",
    "               'G':['Mackerel', 'Tuna', 'Shad', 'Cod', 'Opah', 'Walleye'],\n",
    "               'H':['Anchovy', 'Mackerel', 'Pike', 'Salmon', 'Perch', 'Herring'],\n",
    "               'I':['Pike', 'Tuna', 'Cod', 'Salmon', 'Carp', 'Walleye'],\n",
    "               'J':['Grouper', 'Mackerel', 'Tuna', 'Perch', 'Walleye'],\n",
    "               'K':['Mackerel', 'Wahoo', 'Shad', 'Betta', 'Carp', 'Opah', 'Herring'],\n",
    "               'L':['Grouper', 'Wahoo', 'Betta', 'Perch', 'Mudskipper', 'Herring']}\n",
    "\n",
    "out_edge_network = {'A':['C','E'],\n",
    "               'B':['A','C'],\n",
    "               'C':[],\n",
    "               'D':['B'],\n",
    "               'E':['C','F','G','I'],\n",
    "               'F':['C', 'B','D','H'],\n",
    "               'G':['F','I'],\n",
    "               'H':['D','G','J'],\n",
    "               'I':['G','J','K'],\n",
    "               'J':['G','H','L'],\n",
    "               'K':['J'],\n",
    "               'L':['J']}\n",
    "\n",
    "\n",
    "\n",
    "webpage_names = {\n",
    "    \"A\": \"Tim’s Wet Pets\",\n",
    "    \"B\": \"Finny’s Fried Fish\",\n",
    "    \"C\": \"By the Sea\",\n",
    "    \"D\": \"Scales and Tails\", \n",
    "    \"E\": \"Fillets ’R Us\", \n",
    "    \"F\": \"It’s Better Wetter\" ,\n",
    "    \"G\": \"Friendly Fish\",  \n",
    "    \"H\": \"Frank’s Aquariums\", \n",
    "    \"I\": \"Fishmonger’s Bane\", \n",
    "    \"J\": \"Fish Eye Cafe\", \n",
    "    \"K\": \"Happy Fins\", \n",
    "    \"L\": \"Fishtastic\" \n",
    "}\n",
    "\n",
    "# pretty matrix print\n",
    "def matprint(mat, fmt=\"g\"):\n",
    "    col_maxes = [max([len((\"{:\"+fmt+\"}\").format(x)) for x in col]) for col in mat.T]\n",
    "    for x in mat:\n",
    "        for i, y in enumerate(x):\n",
    "            print((\"{:\"+str(col_maxes[i])+fmt+\"}\").format(y), end=\"  \")\n",
    "        print(\"\")\n",
    "        \n",
    "def print_websites(ranking_vector: list) -> None:\n",
    "    for i, j in enumerate(ranking_vector):\n",
    "        try:\n",
    "            print(f\"{i+1}. {j}: {webpage_names[j]}\")\n",
    "        except KeyError:\n",
    "            print(\"Wrong vector\")\n",
    "            return"
   ]
  },
  {
   "cell_type": "code",
   "execution_count": 3,
   "id": "53f8fe86-f943-42fa-bf4e-7a9ad03e2b51",
   "metadata": {},
   "outputs": [
    {
     "name": "stdout",
     "output_type": "stream",
     "text": [
      "1) Create 'Raw' Google Matrix: \n",
      "  0     0   0.5         0  0.5     0         0         0     0         0         0         0  \n",
      "0.5     0   0.5         0    0     0         0         0     0         0         0         0  \n",
      "  0     0     0         0    0     0         0         0     0         0         0         0  \n",
      "  0     1     0         0    0     0         0         0     0         0         0         0  \n",
      "  0     0  0.25         0    0  0.25      0.25         0  0.25         0         0         0  \n",
      "  0  0.25  0.25      0.25    0     0         0      0.25     0         0         0         0  \n",
      "  0     0     0         0    0   0.5         0         0   0.5         0         0         0  \n",
      "  0     0     0  0.333333    0     0  0.333333         0     0  0.333333         0         0  \n",
      "  0     0     0         0    0     0  0.333333         0     0  0.333333  0.333333         0  \n",
      "  0     0     0         0    0     0  0.333333  0.333333     0         0         0  0.333333  \n",
      "  0     0     0         0    0     0         0         0     0         1         0         0  \n",
      "  0     0     0         0    0     0         0         0     0         1         0         0  \n"
     ]
    }
   ],
   "source": [
    "# Actual start of programming\n",
    "# 1) Create \"raw\" Google Matrix\n",
    "# # convert adjancency matrix into google matrix\n",
    "google = np.zeros(shape=(12,12))\n",
    "for x in out_edge_network.keys():\n",
    "    # we have to comment this, and do it later (this is what professor wants)\n",
    "    # if len(out_edge_network[x]) == 0: \n",
    "        # for y in range(0,len(google[ord(x.lower()) - 97])):\n",
    "            # google[ord(x.lower()) - 97][y] = 1/const_number_pages\n",
    "    for y in out_edge_network[x]:\n",
    "        google[ord(x.lower()) - 97][ord(y.lower()) - 97] = 1/len(out_edge_network[x])\n",
    "print(\"1) Create 'Raw' Google Matrix: \")\n",
    "matprint(google)"
   ]
  },
  {
   "cell_type": "code",
   "execution_count": 4,
   "id": "60cac023",
   "metadata": {},
   "outputs": [],
   "source": [
    "# Check that rows are correct:\n",
    "\n",
    "for i in google:\n",
    "    tmp = i.sum()\n",
    "    if tmp != 1.0 and tmp != 0.0:\n",
    "        print(\"Not raw google matrix\")"
   ]
  },
  {
   "cell_type": "code",
   "execution_count": 6,
   "id": "ad52faed-37ef-4485-b682-8eab69b3be73",
   "metadata": {},
   "outputs": [],
   "source": [
    "# decompose google matrix into components\n",
    "eigenvalues, eigenvectors = np.linalg.eig(google)"
   ]
  },
  {
   "cell_type": "code",
   "execution_count": 16,
   "id": "ef3dbd03-045a-4bcb-b41f-b0190f6919f0",
   "metadata": {},
   "outputs": [
    {
     "name": "stdout",
     "output_type": "stream",
     "text": [
      "(0.8911110824741333+0j)\n"
     ]
    }
   ],
   "source": [
    "print(eigenvalues[0])"
   ]
  },
  {
   "cell_type": "code",
   "execution_count": 17,
   "id": "50fda3ee-a934-4165-b4b1-0e83be3387eb",
   "metadata": {},
   "outputs": [
    {
     "name": "stdout",
     "output_type": "stream",
     "text": [
      "[ 1.35656653e-01+0.j          1.50088574e-02+0.j\n",
      "  8.81645637e-02+0.j         -4.01312429e-03-0.18953848j\n",
      " -4.01312429e-03+0.18953848j  1.71036030e-01-0.13793563j\n",
      "  1.71036030e-01+0.13793563j -6.20655765e-02+0.j\n",
      "  3.52761454e-03+0.j          3.73241764e-16+0.j\n",
      " -3.93932794e-16+0.j         -2.29391549e-01+0.j        ]\n"
     ]
    }
   ],
   "source": [
    "print(eigenvectors[0])"
   ]
  },
  {
   "cell_type": "code",
   "execution_count": null,
   "id": "8839f35e-fdd7-4495-bdf4-eee96abf18f3",
   "metadata": {},
   "outputs": [],
   "source": [
    "# The largest eigenvalue is not exactly 1\n",
    "# the egenvector corresponding to the largest eigenvalue does not have all negative or all positive entries"
   ]
  },
  {
   "cell_type": "code",
   "execution_count": 100,
   "id": "0f91debb",
   "metadata": {},
   "outputs": [
    {
     "name": "stdout",
     "output_type": "stream",
     "text": [
      "We will fix danling nodes, by adding artificial outlinks\n",
      "Updated Google Matrix: \n",
      "        0          0        0.5          0        0.5          0          0          0          0          0          0          0  \n",
      "      0.5          0        0.5          0          0          0          0          0          0          0          0          0  \n",
      "0.0833333  0.0833333  0.0833333  0.0833333  0.0833333  0.0833333  0.0833333  0.0833333  0.0833333  0.0833333  0.0833333  0.0833333  \n",
      "        0          1          0          0          0          0          0          0          0          0          0          0  \n",
      "        0          0       0.25          0          0       0.25       0.25          0       0.25          0          0          0  \n",
      "        0       0.25       0.25       0.25          0          0          0       0.25          0          0          0          0  \n",
      "        0          0          0          0          0        0.5          0          0        0.5          0          0          0  \n",
      "        0          0          0   0.333333          0          0   0.333333          0          0   0.333333          0          0  \n",
      "        0          0          0          0          0          0   0.333333          0          0   0.333333   0.333333          0  \n",
      "        0          0          0          0          0          0   0.333333   0.333333          0          0          0   0.333333  \n",
      "        0          0          0          0          0          0          0          0          0          1          0          0  \n",
      "        0          0          0          0          0          0          0          0          0          1          0          0  \n"
     ]
    }
   ],
   "source": [
    "# 4) Fix dangling nodes\n",
    "for i, j in enumerate(google):\n",
    "    if not j.sum():\n",
    "        google[i] = np.array([1/const_number_pages for k in range(const_number_pages)])\n",
    "print(\"We will fix danling nodes, by adding artificial outlinks\")\n",
    "print(\"Updated Google Matrix: \")\n",
    "matprint(google) \n"
   ]
  },
  {
   "cell_type": "code",
   "execution_count": 19,
   "id": "5a5151d2",
   "metadata": {},
   "outputs": [
    {
     "name": "stdout",
     "output_type": "stream",
     "text": [
      "[-0.16957809+0.j -0.28100694+0.j -0.34889546+0.j -0.1858699 +0.j\n",
      " -0.11386367+0.j -0.26424964+0.j -0.41341821+0.j -0.27219861+0.j\n",
      " -0.26424964+0.j -0.53118475+0.j -0.11715784+0.j -0.2061362 +0.j]\n",
      "Number of negative entries in corresponding eigenvector: 12\n",
      "Since all of the entries are negative, we will flip their signs\n",
      "[0.16957809-0.j 0.28100694-0.j 0.34889546-0.j 0.1858699 -0.j\n",
      " 0.11386367-0.j 0.26424964-0.j 0.41341821-0.j 0.27219861-0.j\n",
      " 0.26424964-0.j 0.53118475-0.j 0.11715784-0.j 0.2061362 -0.j]\n"
     ]
    }
   ],
   "source": [
    "# eigvalues = np.linalg.eigvals(google)\n",
    "# eigvalues\n",
    "# print(f\"Largest value: {eigvalues.max()}\")\n",
    "w, v = np.linalg.eig(np.transpose(google))\n",
    "\n",
    "eigval = w.max()\n",
    "eigvect = v[:, 0]\n",
    "# print(f\"Largest eigenvalue: {eigval}. \")\n",
    "print(eigvect)\n",
    "non_negative_count = 0\n",
    "\n",
    "for i in eigvect:\n",
    "    if i < 0:\n",
    "        non_negative_count += 1\n",
    "print(f\"Number of negative entries in corresponding eigenvector: {non_negative_count}\")\n",
    "print(\"Since all of the entries are negative, we will flip their signs\") # idk, I don't like it\n",
    "eigvect = np.array([-i for i in eigvect])\n",
    "print(eigvect)"
   ]
  },
  {
   "cell_type": "code",
   "execution_count": null,
   "id": "8beb44e4",
   "metadata": {},
   "outputs": [],
   "source": [
    "# 6) Already normalized"
   ]
  },
  {
   "cell_type": "code",
   "execution_count": 109,
   "id": "2e0b15d6",
   "metadata": {},
   "outputs": [
    {
     "name": "stdout",
     "output_type": "stream",
     "text": [
      "From eigenvector we obtain the following ranking:\n",
      "1. J: Fish Eye Cafe\n",
      "2. G: Friendly Fish\n",
      "3. C: By the Sea\n",
      "4. B: Finny’s Fried Fish\n",
      "5. H: Frank’s Aquariums\n",
      "6. F: It’s Better Wetter\n",
      "7. I: Fishmonger’s Bane\n",
      "8. L: Fishtastic\n",
      "9. D: Scales and Tails\n",
      "10. A: Tim’s Wet Pets\n",
      "11. K: Happy Fins\n",
      "12. E: Fillets ’R Us\n"
     ]
    }
   ],
   "source": [
    "# will be useful in the future meh, I am too dumb\n",
    "\n",
    "def page_ranking_by_vector(vector: np.ndarray) -> list:\n",
    "    sor = sorted(vector, reverse=True)\n",
    "    result = []\n",
    "    for i in sor:\n",
    "        index = np.where(vector == i)[0]\n",
    "        # if only one element:\n",
    "        if index.size == 1:\n",
    "          result.append(chr(index[0]+65))\n",
    "        else:\n",
    "            for j in index:\n",
    "                tmp = chr(j+65)\n",
    "                if tmp not in result:\n",
    "                    result.append(tmp)\n",
    "    return result\n",
    "\n",
    "\n",
    "initial_page_ranking = page_ranking_by_vector(eigvect)\n",
    "print(\"From eigenvector we obtain the following ranking:\")\n",
    "print_websites(initial_page_ranking)\n",
    "            \n",
    "     \n",
    "\n",
    "        \n",
    "    \n",
    "    \n",
    "        "
   ]
  },
  {
   "cell_type": "code",
   "execution_count": 117,
   "id": "896b486a",
   "metadata": {},
   "outputs": [
    {
     "name": "stdout",
     "output_type": "stream",
     "text": [
      "[0.05353167 0.08870703 0.11013779 0.05867459 0.03594398 0.08341716\n",
      " 0.13050604 0.08592646 0.08341716 0.16768207 0.03698387 0.06507217]\n"
     ]
    },
    {
     "data": {
      "image/png": "[encoded data removed]",
      "text/plain": [
       "<Figure size 640x480 with 1 Axes>"
      ]
     },
     "metadata": {},
     "output_type": "display_data"
    }
   ],
   "source": [
    "# 8)\n",
    "\n",
    "# create our pi vector\n",
    "\n",
    "\n",
    "def power_iteration(iteration_matrix, epsilon = np.finfo(float).eps, show_graph=False):\n",
    "    pi = np.array([1/12 for i in range(const_number_pages)])\n",
    "    count = 0\n",
    "    # numpy machine epsilon\n",
    "    diff = 1\n",
    "\n",
    "    # error vector to make graph later (maybe)\n",
    "    errors = []\n",
    "    while(diff > epsilon):\n",
    "        tmp = np.matmul(np.transpose(pi), iteration_matrix)\n",
    "        tmp = np.transpose(tmp)\n",
    "        diff = np.linalg.norm(tmp-pi)\n",
    "        errors.append(diff)\n",
    "        pi = tmp\n",
    "        count += 1\n",
    "        \n",
    "    if show_graph:\n",
    "        df = pd.DataFrame(errors)\n",
    "        ax = df.plot(title=\"Error with number of iterations\")\n",
    "        ax.set_xlabel(\"Count\")\n",
    "        ax.set_ylabel(\"Error\")\n",
    "    return pi\n",
    "        \n",
    "pi = power_iteration(google, show_graph=True)\n",
    "print(pi)\n",
    "    \n",
    "    \n",
    "\n"
   ]
  },
  {
   "cell_type": "code",
   "execution_count": 104,
   "id": "3b0f9fea",
   "metadata": {},
   "outputs": [
    {
     "name": "stdout",
     "output_type": "stream",
     "text": [
      "From eigenvector we obtain the following ranking:\n",
      "1. J: Fish Eye Cafe\n",
      "2. G: Friendly Fish\n",
      "3. C: By the Sea\n",
      "4. B: Finny’s Fried Fish\n",
      "5. H: Frank’s Aquariums\n",
      "6. F: It’s Better Wetter\n",
      "7. I: Fishmonger’s Bane\n",
      "8. L: Fishtastic\n",
      "9. D: Scales and Tails\n",
      "10. A: Tim’s Wet Pets\n",
      "11. K: Happy Fins\n",
      "12. E: Fillets ’R Us\n"
     ]
    }
   ],
   "source": [
    "# now let's compare this vector with what we got before.\n",
    "# they are the same\n",
    "axax = page_ranking_by_vector(np.array(pi))\n",
    "print(\"From eigenvector we obtain the following ranking:\")\n",
    "print_websites(axax)"
   ]
  },
  {
   "cell_type": "code",
   "execution_count": 106,
   "id": "583f174b",
   "metadata": {},
   "outputs": [
    {
     "name": "stdout",
     "output_type": "stream",
     "text": [
      "   0.0125     0.0125     0.4375     0.0125     0.4375     0.0125     0.0125     0.0125     0.0125     0.0125     0.0125     0.0125  \n",
      "   0.4375     0.0125     0.4375     0.0125     0.0125     0.0125     0.0125     0.0125     0.0125     0.0125     0.0125     0.0125  \n",
      "0.0833333  0.0833333  0.0833333  0.0833333  0.0833333  0.0833333  0.0833333  0.0833333  0.0833333  0.0833333  0.0833333  0.0833333  \n",
      "   0.0125     0.8625     0.0125     0.0125     0.0125     0.0125     0.0125     0.0125     0.0125     0.0125     0.0125     0.0125  \n",
      "   0.0125     0.0125      0.225     0.0125     0.0125      0.225      0.225     0.0125      0.225     0.0125     0.0125     0.0125  \n",
      "   0.0125      0.225      0.225      0.225     0.0125     0.0125     0.0125      0.225     0.0125     0.0125     0.0125     0.0125  \n",
      "   0.0125     0.0125     0.0125     0.0125     0.0125     0.4375     0.0125     0.0125     0.4375     0.0125     0.0125     0.0125  \n",
      "   0.0125     0.0125     0.0125   0.295833     0.0125     0.0125   0.295833     0.0125     0.0125   0.295833     0.0125     0.0125  \n",
      "   0.0125     0.0125     0.0125     0.0125     0.0125     0.0125   0.295833     0.0125     0.0125   0.295833   0.295833     0.0125  \n",
      "   0.0125     0.0125     0.0125     0.0125     0.0125     0.0125   0.295833   0.295833     0.0125     0.0125     0.0125   0.295833  \n",
      "   0.0125     0.0125     0.0125     0.0125     0.0125     0.0125     0.0125     0.0125     0.0125     0.8625     0.0125     0.0125  \n",
      "   0.0125     0.0125     0.0125     0.0125     0.0125     0.0125     0.0125     0.0125     0.0125     0.8625     0.0125     0.0125  \n"
     ]
    }
   ],
   "source": [
    "# 9)\n",
    "\n",
    "alpha = 0.85\n",
    "ones = (1-alpha)*(1/const_number_pages)*np.full((const_number_pages, const_number_pages), 1)\n",
    "google_alpha = alpha * google + ones\n",
    "matprint(google_alpha)"
   ]
  },
  {
   "cell_type": "code",
   "execution_count": 94,
   "id": "dfae9e5e",
   "metadata": {},
   "outputs": [
    {
     "name": "stdout",
     "output_type": "stream",
     "text": [
      "count=68\n",
      "From eigenvector we obtain the following ranking:\n",
      "1. Fish Eye Cafe\n",
      "2. Friendly Fish\n",
      "3. By the Sea\n",
      "4. Finny’s Fried Fish\n",
      "5. Frank’s Aquariums\n",
      "6. It’s Better Wetter\n",
      "7. Fishmonger’s Bane\n",
      "8. Fishtastic\n",
      "9. Scales and Tails\n",
      "10. Tim’s Wet Pets\n",
      "11. Fillets ’R Us\n",
      "12. Happy Fins\n"
     ]
    }
   ],
   "source": [
    "# 10)\n",
    "# exactly the same output\n",
    "new_eigenvect = power_iteration(google_alpha)\n",
    "axax = page_ranking_by_vector(np.array(new_eigenvect))\n",
    "print(\"From eigenvector we obtain the following ranking:\")\n",
    "print_websites(axax)"
   ]
  },
  {
   "cell_type": "code",
   "execution_count": null,
   "id": "e9817e9e",
   "metadata": {},
   "outputs": [],
   "source": [
    "# 11) Yes, exactly the same"
   ]
  },
  {
   "cell_type": "markdown",
   "id": "0edcaeb2",
   "metadata": {},
   "source": [
    "\n"
   ]
  }
 ],
 "metadata": {
  "kernelspec": {
   "display_name": "Python 3 (ipykernel)",
   "language": "python",
   "name": "python3"
  },
  "language_info": {
   "codemirror_mode": {
    "name": "ipython",
    "version": 3
   },
   "file_extension": ".py",
   "mimetype": "text/x-python",
   "name": "python",
   "nbconvert_exporter": "python",
   "pygments_lexer": "ipython3",
   "version": "3.7.16"
  }
 },
 "nbformat": 4,
 "nbformat_minor": 5
}
